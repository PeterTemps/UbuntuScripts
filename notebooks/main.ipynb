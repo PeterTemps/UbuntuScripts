{
 "cells": [
  {
   "cell_type": "code",
   "execution_count": null,
   "metadata": {},
   "outputs": [],
   "source": [
    "# import packages to use for: widgets, file manipulation, plotting, shell commands, system commands, time, tqdm, huggingface hub, urllib3, json, os, sys\n",
    "import ipywidgets as widgets\n",
    "from ipywidgets import Layout\n",
    "from IPython.display import display, clear_output\n",
    "import os\n",
    "import sys\n",
    "import json\n",
    "import time\n",
    "import urllib3\n",
    "import requests\n",
    "import subprocess\n",
    "from tqdm.notebook import tqdm\n",
    "from huggingface_hub import hf_hub_download, snapshot_download\n",
    "\n",
    "\n",
    "# set up the progress bar\n",
    "def progress(value, max=100):\n",
    "    return widgets.FloatProgress(\n",
    "        value=value, min=0, max=max, layout=Layout(flex=\"2\"), bar_style=\"info\"\n",
    "    )\n",
    "\n",
    "\n",
    "# set up the button\n",
    "def button(description, style):\n",
    "    return widgets.Button(\n",
    "        description=description, layout=Layout(flex=\"1\"), style=style\n",
    "    )\n",
    "\n",
    "\n",
    "# set up the text box\n",
    "def text(value):\n",
    "    return widgets.Text(value=value, layout=Layout(flex=\"2\"), disabled=True)\n",
    "\n",
    "\n",
    "# set up the text box for user input\n",
    "def text_input(value):\n",
    "    return widgets.Text(value=value, layout=Layout(flex=\"2\"))\n",
    "\n",
    "\n",
    "# print current working directory\n",
    "print(\"Current working directory: {0}\".format(os.getcwd()))\n",
    "# change working directory to ../\n",
    "os.chdir(\"../\")\n",
    "print(\"Changed working directory to: {0}\".format(os.getcwd()))\n",
    "MAIN_DIR = os.getcwd()"
   ]
  },
  {
   "cell_type": "code",
   "execution_count": null,
   "metadata": {},
   "outputs": [],
   "source": [
    "# run shell script 'install_packages_nosudo.sh'\n",
    "print(\"Running shell script 'install_packages_nosudo.sh'\")\n",
    "subprocess.run([\"bash\", \"install_packages_nosudo.sh\"], check=True)"
   ]
  },
  {
   "cell_type": "code",
   "execution_count": null,
   "metadata": {},
   "outputs": [],
   "source": [
    "# run shell script 'install_hub.sh'\n",
    "print(\"Running shell script 'install_hub.sh'\")\n",
    "subprocess.run([\"bash\", \"install_hub.sh\"], check=True)"
   ]
  },
  {
   "cell_type": "code",
   "execution_count": null,
   "metadata": {},
   "outputs": [],
   "source": [
    "# run shell script 'install_venv.sh'\n",
    "print(\"Running shell script 'install_venv.sh'\")\n",
    "subprocess.run([\"bash\", \"install_venv.sh\"], check=True)"
   ]
  },
  {
   "cell_type": "code",
   "execution_count": null,
   "metadata": {},
   "outputs": [],
   "source": [
    "# change working directory to MAIN_DIR/comfyui/models\n",
    "os.chdir(f\"{MAIN_DIR}/comfyui/models/sd\")\n",
    "print(\"Changed working directory to: {0}\".format(os.getcwd()))\n",
    "\n",
    "# run shell script 'download_civitai.sh aria2c'\n",
    "print(\"Running shell script 'download_civitai.sh 2'\")\n",
    "subprocess.run([\"bash\", \"download_civitai.sh\", \"2\"], check=True)\n",
    "\n",
    "# change working directory to MAIN_DIR\n",
    "os.chdir(MAIN_DIR)\n",
    "print(\"Changed working directory to: {0}\".format(os.getcwd()))"
   ]
  },
  {
   "cell_type": "code",
   "execution_count": null,
   "metadata": {},
   "outputs": [],
   "source": [
    "# run python script 'download_hub.py robertfag2/ComfyUI ./hf_hub'\n",
    "print(\"Running python script 'download_hub.py robertfag2/ComfyUI ./hf_hub'\")\n",
    "subprocess.run(\n",
    "    [\n",
    "        \"python\",\n",
    "        \"download_hub.py\",\n",
    "        \"robertfag2/ComfyUI\",\n",
    "        \"./hf_hub\",\n",
    "    ],\n",
    "    check=True,\n",
    ")"
   ]
  },
  {
   "cell_type": "code",
   "execution_count": null,
   "metadata": {},
   "outputs": [],
   "source": [
    "# change working directory to ./comfyui/custom_nodes/\n",
    "os.chdir(f\"{MAIN_DIR}/comfyui/custom_nodes/\")\n",
    "print(\"Changed working directory to: {0}\".format(os.getcwd()))\n",
    "\n",
    "# run shell script 'clone_comfyui_plugins.sh'\n",
    "print(\"Running shell script 'clone_comfyui_plugins.sh'\")\n",
    "subprocess.run([\"bash\", \"clone_comfyui_plugins.sh\"])\n",
    "\n",
    "# enter every subdirectory and run 'git pull' command\n",
    "print(\"Running 'git pull' command in every subdirectory\")\n",
    "for subdir in os.listdir():\n",
    "    if os.path.isdir(subdir):\n",
    "        os.chdir(subdir)\n",
    "        print(f\"Changed working directory to: {os.getcwd()}\")\n",
    "        subprocess.run([\"git\", \"pull\"], check=True)\n",
    "        os.chdir(\"..\")\n",
    "        print(f\"Changed working directory to: {os.getcwd()}\")\n",
    "    else:\n",
    "        print(f\"{subdir} is not a directory\")\n",
    "\n",
    "# change working directory to MAIN_DIR\n",
    "os.chdir(MAIN_DIR)\n",
    "print(\"Changed working directory to: {0}\".format(os.getcwd()))"
   ]
  }
 ],
 "metadata": {
  "kernelspec": {
   "display_name": "venv",
   "language": "python",
   "name": "python3"
  },
  "language_info": {
   "codemirror_mode": {
    "name": "ipython",
    "version": 3
   },
   "file_extension": ".py",
   "mimetype": "text/x-python",
   "name": "python",
   "nbconvert_exporter": "python",
   "pygments_lexer": "ipython3",
   "version": "3.10.12"
  }
 },
 "nbformat": 4,
 "nbformat_minor": 2
}
