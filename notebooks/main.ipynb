{
 "cells": [
  {
   "cell_type": "code",
   "execution_count": 1,
   "metadata": {},
   "outputs": [
    {
     "name": "stdout",
     "output_type": "stream",
     "text": [
      "Current working directory: /home/piotr/VsCode/UbuntuScripts/notebooks\n"
     ]
    }
   ],
   "source": [
    "# import packages to use for: widgets, file manipulation, plotting, shell commands, system commands, time, tqdm, huggingface hub, urllib3, json, os, sys\n",
    "import ipywidgets as widgets\n",
    "from ipywidgets import Layout\n",
    "from IPython.display import display, clear_output\n",
    "import os\n",
    "import sys\n",
    "import json\n",
    "import time\n",
    "import urllib3\n",
    "import requests\n",
    "import subprocess\n",
    "from tqdm.notebook import tqdm\n",
    "from huggingface_hub import hf_hub_download, snapshot_download\n",
    "\n",
    "\n",
    "# set up the progress bar\n",
    "def progress(value, max=100):\n",
    "    return widgets.FloatProgress(\n",
    "        value=value, min=0, max=max, layout=Layout(flex=\"2\"), bar_style=\"info\"\n",
    "    )\n",
    "\n",
    "\n",
    "# set up the button\n",
    "def button(description, style):\n",
    "    return widgets.Button(\n",
    "        description=description, layout=Layout(flex=\"1\"), style=style\n",
    "    )\n",
    "\n",
    "\n",
    "# set up the text box\n",
    "def text(value):\n",
    "    return widgets.Text(value=value, layout=Layout(flex=\"2\"), disabled=True)\n",
    "\n",
    "\n",
    "# set up the text box for user input\n",
    "def text_input(value):\n",
    "    return widgets.Text(value=value, layout=Layout(flex=\"2\"))\n",
    "\n",
    "\n",
    "# print current working directory\n",
    "print(\"Current working directory: {0}\".format(os.getcwd()))"
   ]
  },
  {
   "cell_type": "code",
   "execution_count": 2,
   "metadata": {},
   "outputs": [
    {
     "name": "stdout",
     "output_type": "stream",
     "text": [
      "Changed working directory to: /home/piotr/VsCode/UbuntuScripts\n"
     ]
    }
   ],
   "source": [
    "# change working directory to ../\n",
    "os.chdir(\"../\")\n",
    "print(\"Changed working directory to: {0}\".format(os.getcwd()))\n",
    "MAIN_DIR = os.getcwd()"
   ]
  },
  {
   "cell_type": "code",
   "execution_count": null,
   "metadata": {},
   "outputs": [],
   "source": [
    "# run shell script 'install_packages_nosudo.sh'\n",
    "print(\"Running shell script 'install_packages_nosudo.sh'\")\n",
    "subprocess.run([\"bash\", \"install_packages_nosudo.sh\"], check=True)"
   ]
  },
  {
   "cell_type": "code",
   "execution_count": null,
   "metadata": {},
   "outputs": [],
   "source": [
    "# run shell script 'install_hub.sh'\n",
    "print(\"Running shell script 'install_hub.sh'\")\n",
    "subprocess.run([\"bash\", \"install_hub.sh\"], check=True)"
   ]
  },
  {
   "cell_type": "code",
   "execution_count": null,
   "metadata": {},
   "outputs": [],
   "source": [
    "# run python script 'download_hub.py robertfag2/ComfyUI ./hf_hub'\n",
    "print(\"Running python script 'download_hub.py robertfag2/ComfyUI ./hf_hub'\")\n",
    "subprocess.run(\n",
    "    [\n",
    "        \"python\",\n",
    "        \"download_hub.py\",\n",
    "        \"robertfag2/ComfyUI\",\n",
    "        \"./hf_hub\",\n",
    "    ],\n",
    "    check=True,\n",
    ")"
   ]
  },
  {
   "cell_type": "code",
   "execution_count": 4,
   "metadata": {},
   "outputs": [
    {
     "name": "stdout",
     "output_type": "stream",
     "text": [
      "Changed working directory to: /home/piotr/VsCode/UbuntuScripts/comfyui/custom_nodes\n",
      "Running shell script 'clone_comfyui_plugins.sh'\n",
      "Running 'git pull' command in every subdirectory\n",
      "Changed working directory to: /home/piotr/VsCode/UbuntuScripts/comfyui/custom_nodes/ComfyUI-Custom-Scripts\n"
     ]
    },
    {
     "name": "stderr",
     "output_type": "stream",
     "text": [
      "fatal: destination path 'ComfyUI-ComfyWorkflows' already exists and is not an empty directory.\n",
      "fatal: destination path 'ComfyUI-Crystools' already exists and is not an empty directory.\n",
      "fatal: destination path 'comfyui-workspace-manager' already exists and is not an empty directory.\n",
      "fatal: destination path 'rgthree-comfy' already exists and is not an empty directory.\n",
      "fatal: destination path 'ComfyUI_Comfyroll_CustomNodes' already exists and is not an empty directory.\n",
      "fatal: destination path 'ComfyUI-Impact-Pack' already exists and is not an empty directory.\n",
      "fatal: destination path 'ComfyUI-Custom-Scripts' already exists and is not an empty directory.\n",
      "fatal: destination path 'ComfyUI-SUPIR' already exists and is not an empty directory.\n",
      "fatal: destination path 'comfyui-reactor-node' already exists and is not an empty directory.\n",
      "fatal: destination path 'was-node-suite-comfyui' already exists and is not an empty directory.\n",
      "fatal: destination path 'ComfyUI_InstantID' already exists and is not an empty directory.\n",
      "fatal: destination path 'ComfyUI_UltimateSDUpscale' already exists and is not an empty directory.\n",
      "fatal: destination path 'efficiency-nodes-comfyui' already exists and is not an empty directory.\n"
     ]
    },
    {
     "name": "stdout",
     "output_type": "stream",
     "text": [
      "Already up to date.\n",
      "Changed working directory to: /home/piotr/VsCode/UbuntuScripts/comfyui/custom_nodes\n",
      "Changed working directory to: /home/piotr/VsCode/UbuntuScripts/comfyui/custom_nodes/comfyui-reactor-node\n",
      "Already up to date.\n",
      "Changed working directory to: /home/piotr/VsCode/UbuntuScripts/comfyui/custom_nodes\n",
      "Changed working directory to: /home/piotr/VsCode/UbuntuScripts/comfyui/custom_nodes/ComfyUI-Impact-Pack\n"
     ]
    },
    {
     "name": "stderr",
     "output_type": "stream",
     "text": [
      "From https://github.com/ltdrdata/ComfyUI-Impact-Pack\n",
      "   0bb54b2..6b9d862  Main       -> origin/Main\n"
     ]
    },
    {
     "name": "stdout",
     "output_type": "stream",
     "text": [
      "Updating 0bb54b2..6b9d862\n",
      "Fast-forward\n",
      " README.md                     | 16 ++++++++--------\n",
      " __init__.py                   | 14 +++++++-------\n",
      " modules/impact/config.py      |  2 +-\n",
      " modules/impact/core.py        |  7 ++++++-\n",
      " modules/impact/impact_pack.py |  2 +-\n",
      " modules/impact/segs_nodes.py  |  2 +-\n",
      " pyproject.toml                |  2 +-\n",
      " 7 files changed, 25 insertions(+), 20 deletions(-)\n",
      "Changed working directory to: /home/piotr/VsCode/UbuntuScripts/comfyui/custom_nodes\n",
      "Changed working directory to: /home/piotr/VsCode/UbuntuScripts/comfyui/custom_nodes/ComfyUI_Comfyroll_CustomNodes\n",
      "Already up to date.\n",
      "Changed working directory to: /home/piotr/VsCode/UbuntuScripts/comfyui/custom_nodes\n",
      "clone_comfyui_plugins.sh is not a directory\n",
      "Changed working directory to: /home/piotr/VsCode/UbuntuScripts/comfyui/custom_nodes/comfyui-workspace-manager\n"
     ]
    },
    {
     "name": "stderr",
     "output_type": "stream",
     "text": [
      "From https://github.com/11cafe/comfyui-workspace-manager\n",
      "   7228169..705633b  dev        -> origin/dev\n"
     ]
    },
    {
     "name": "stdout",
     "output_type": "stream",
     "text": [
      "Already up to date.\n",
      "Changed working directory to: /home/piotr/VsCode/UbuntuScripts/comfyui/custom_nodes\n",
      "Changed working directory to: /home/piotr/VsCode/UbuntuScripts/comfyui/custom_nodes/ComfyUI_InstantID\n",
      "Already up to date.\n",
      "Changed working directory to: /home/piotr/VsCode/UbuntuScripts/comfyui/custom_nodes\n",
      "Changed working directory to: /home/piotr/VsCode/UbuntuScripts/comfyui/custom_nodes/efficiency-nodes-comfyui\n",
      "Already up to date.\n",
      "Changed working directory to: /home/piotr/VsCode/UbuntuScripts/comfyui/custom_nodes\n",
      "Changed working directory to: /home/piotr/VsCode/UbuntuScripts/comfyui/custom_nodes/ComfyUI-ComfyWorkflows\n",
      "Already up to date.\n",
      "Changed working directory to: /home/piotr/VsCode/UbuntuScripts/comfyui/custom_nodes\n",
      "Changed working directory to: /home/piotr/VsCode/UbuntuScripts/comfyui/custom_nodes/rgthree-comfy\n",
      "Already up to date.\n",
      "Changed working directory to: /home/piotr/VsCode/UbuntuScripts/comfyui/custom_nodes\n",
      "Changed working directory to: /home/piotr/VsCode/UbuntuScripts/comfyui/custom_nodes/ComfyUI-Crystools\n",
      "Already up to date.\n",
      "Changed working directory to: /home/piotr/VsCode/UbuntuScripts/comfyui/custom_nodes\n",
      "Changed working directory to: /home/piotr/VsCode/UbuntuScripts/comfyui/custom_nodes/ComfyUI-SUPIR\n",
      "Already up to date.\n",
      "Changed working directory to: /home/piotr/VsCode/UbuntuScripts/comfyui/custom_nodes\n",
      "Changed working directory to: /home/piotr/VsCode/UbuntuScripts/comfyui/custom_nodes/ComfyUI_UltimateSDUpscale\n",
      "Already up to date.\n",
      "Changed working directory to: /home/piotr/VsCode/UbuntuScripts/comfyui/custom_nodes\n",
      "Changed working directory to: /home/piotr/VsCode/UbuntuScripts/comfyui/custom_nodes/was-node-suite-comfyui\n",
      "Already up to date.\n",
      "Changed working directory to: /home/piotr/VsCode/UbuntuScripts/comfyui/custom_nodes\n",
      "install_requirements.sh is not a directory\n",
      "comfyui_plugins.txt is not a directory\n",
      "Changed working directory to: /home/piotr/VsCode/UbuntuScripts\n"
     ]
    }
   ],
   "source": [
    "# change working directory to ./comfyui/custom_nodes/\n",
    "os.chdir(f\"{MAIN_DIR}/comfyui/custom_nodes/\")\n",
    "print(\"Changed working directory to: {0}\".format(os.getcwd()))\n",
    "\n",
    "# run shell script 'clone_comfyui_plugins.sh'\n",
    "print(\"Running shell script 'clone_comfyui_plugins.sh'\")\n",
    "subprocess.run([\"bash\", \"clone_comfyui_plugins.sh\"])\n",
    "\n",
    "# enter every subdirectory and run 'git pull' command\n",
    "print(\"Running 'git pull' command in every subdirectory\")\n",
    "for subdir in os.listdir():\n",
    "    if os.path.isdir(subdir):\n",
    "        os.chdir(subdir)\n",
    "        print(f\"Changed working directory to: {os.getcwd()}\")\n",
    "        subprocess.run([\"git\", \"pull\"], check=True)\n",
    "        os.chdir(\"..\")\n",
    "        print(f\"Changed working directory to: {os.getcwd()}\")\n",
    "    else:\n",
    "        print(f\"{subdir} is not a directory\")\n",
    "\n",
    "# change working directory to MAIN_DIR\n",
    "os.chdir(MAIN_DIR)\n",
    "print(\"Changed working directory to: {0}\".format(os.getcwd()))"
   ]
  }
 ],
 "metadata": {
  "kernelspec": {
   "display_name": "venv",
   "language": "python",
   "name": "python3"
  },
  "language_info": {
   "codemirror_mode": {
    "name": "ipython",
    "version": 3
   },
   "file_extension": ".py",
   "mimetype": "text/x-python",
   "name": "python",
   "nbconvert_exporter": "python",
   "pygments_lexer": "ipython3",
   "version": "3.10.12"
  }
 },
 "nbformat": 4,
 "nbformat_minor": 2
}
